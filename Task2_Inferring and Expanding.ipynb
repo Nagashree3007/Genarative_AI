{
 "cells": [
  {
   "cell_type": "markdown",
   "metadata": {},
   "source": [
    "@Author: Nagashree C R<br>\n",
    "@Date: 14-10-2024<br>\n",
    "@Last Modified by: Nagashree C R<br>\n",
    "@Last Modified time: 14-10-2024<br>\n",
    "@Title: Python program to perform Gen AI tasks Inferring and Expanding using Gemini API<br>\n"
   ]
  },
  {
   "cell_type": "code",
   "execution_count": 44,
   "metadata": {},
   "outputs": [],
   "source": [
    "import os\n",
    "from dotenv import load_dotenv\n",
    "import google.generativeai as genai\n",
    "import csv\n",
    "import time"
   ]
  },
  {
   "cell_type": "code",
   "execution_count": 52,
   "metadata": {},
   "outputs": [
    {
     "name": "stdout",
     "output_type": "stream",
     "text": [
      "Requirement already satisfied: google-generativeai in c:\\users\\ashay\\appdata\\local\\packages\\pythonsoftwarefoundation.python.3.11_qbz5n2kfra8p0\\localcache\\local-packages\\python311\\site-packages (0.8.3)\n",
      "Requirement already satisfied: google-ai-generativelanguage==0.6.10 in c:\\users\\ashay\\appdata\\local\\packages\\pythonsoftwarefoundation.python.3.11_qbz5n2kfra8p0\\localcache\\local-packages\\python311\\site-packages (from google-generativeai) (0.6.10)\n",
      "Requirement already satisfied: google-api-core in c:\\users\\ashay\\appdata\\local\\packages\\pythonsoftwarefoundation.python.3.11_qbz5n2kfra8p0\\localcache\\local-packages\\python311\\site-packages (from google-generativeai) (2.21.0)\n",
      "Requirement already satisfied: google-api-python-client in c:\\users\\ashay\\appdata\\local\\packages\\pythonsoftwarefoundation.python.3.11_qbz5n2kfra8p0\\localcache\\local-packages\\python311\\site-packages (from google-generativeai) (2.149.0)\n",
      "Requirement already satisfied: google-auth>=2.15.0 in c:\\users\\ashay\\appdata\\local\\packages\\pythonsoftwarefoundation.python.3.11_qbz5n2kfra8p0\\localcache\\local-packages\\python311\\site-packages (from google-generativeai) (2.35.0)\n",
      "Requirement already satisfied: protobuf in c:\\users\\ashay\\appdata\\local\\packages\\pythonsoftwarefoundation.python.3.11_qbz5n2kfra8p0\\localcache\\local-packages\\python311\\site-packages (from google-generativeai) (5.28.2)\n",
      "Requirement already satisfied: pydantic in c:\\users\\ashay\\appdata\\local\\packages\\pythonsoftwarefoundation.python.3.11_qbz5n2kfra8p0\\localcache\\local-packages\\python311\\site-packages (from google-generativeai) (2.9.2)\n",
      "Requirement already satisfied: tqdm in c:\\users\\ashay\\appdata\\local\\packages\\pythonsoftwarefoundation.python.3.11_qbz5n2kfra8p0\\localcache\\local-packages\\python311\\site-packages (from google-generativeai) (4.66.5)\n",
      "Requirement already satisfied: typing-extensions in c:\\users\\ashay\\appdata\\local\\packages\\pythonsoftwarefoundation.python.3.11_qbz5n2kfra8p0\\localcache\\local-packages\\python311\\site-packages (from google-generativeai) (4.12.2)\n",
      "Requirement already satisfied: proto-plus<2.0.0dev,>=1.22.3 in c:\\users\\ashay\\appdata\\local\\packages\\pythonsoftwarefoundation.python.3.11_qbz5n2kfra8p0\\localcache\\local-packages\\python311\\site-packages (from google-ai-generativelanguage==0.6.10->google-generativeai) (1.24.0)\n",
      "Requirement already satisfied: googleapis-common-protos<2.0.dev0,>=1.56.2 in c:\\users\\ashay\\appdata\\local\\packages\\pythonsoftwarefoundation.python.3.11_qbz5n2kfra8p0\\localcache\\local-packages\\python311\\site-packages (from google-api-core->google-generativeai) (1.65.0)\n",
      "Requirement already satisfied: requests<3.0.0.dev0,>=2.18.0 in c:\\users\\ashay\\appdata\\local\\packages\\pythonsoftwarefoundation.python.3.11_qbz5n2kfra8p0\\localcache\\local-packages\\python311\\site-packages (from google-api-core->google-generativeai) (2.32.3)\n",
      "Requirement already satisfied: cachetools<6.0,>=2.0.0 in c:\\users\\ashay\\appdata\\local\\packages\\pythonsoftwarefoundation.python.3.11_qbz5n2kfra8p0\\localcache\\local-packages\\python311\\site-packages (from google-auth>=2.15.0->google-generativeai) (5.5.0)\n",
      "Requirement already satisfied: pyasn1-modules>=0.2.1 in c:\\users\\ashay\\appdata\\local\\packages\\pythonsoftwarefoundation.python.3.11_qbz5n2kfra8p0\\localcache\\local-packages\\python311\\site-packages (from google-auth>=2.15.0->google-generativeai) (0.4.1)\n",
      "Requirement already satisfied: rsa<5,>=3.1.4 in c:\\users\\ashay\\appdata\\local\\packages\\pythonsoftwarefoundation.python.3.11_qbz5n2kfra8p0\\localcache\\local-packages\\python311\\site-packages (from google-auth>=2.15.0->google-generativeai) (4.9)\n",
      "Requirement already satisfied: httplib2<1.dev0,>=0.19.0 in c:\\users\\ashay\\appdata\\local\\packages\\pythonsoftwarefoundation.python.3.11_qbz5n2kfra8p0\\localcache\\local-packages\\python311\\site-packages (from google-api-python-client->google-generativeai) (0.22.0)\n",
      "Requirement already satisfied: google-auth-httplib2<1.0.0,>=0.2.0 in c:\\users\\ashay\\appdata\\local\\packages\\pythonsoftwarefoundation.python.3.11_qbz5n2kfra8p0\\localcache\\local-packages\\python311\\site-packages (from google-api-python-client->google-generativeai) (0.2.0)\n",
      "Requirement already satisfied: uritemplate<5,>=3.0.1 in c:\\users\\ashay\\appdata\\local\\packages\\pythonsoftwarefoundation.python.3.11_qbz5n2kfra8p0\\localcache\\local-packages\\python311\\site-packages (from google-api-python-client->google-generativeai) (4.1.1)\n",
      "Requirement already satisfied: annotated-types>=0.6.0 in c:\\users\\ashay\\appdata\\local\\packages\\pythonsoftwarefoundation.python.3.11_qbz5n2kfra8p0\\localcache\\local-packages\\python311\\site-packages (from pydantic->google-generativeai) (0.7.0)\n",
      "Requirement already satisfied: pydantic-core==2.23.4 in c:\\users\\ashay\\appdata\\local\\packages\\pythonsoftwarefoundation.python.3.11_qbz5n2kfra8p0\\localcache\\local-packages\\python311\\site-packages (from pydantic->google-generativeai) (2.23.4)\n",
      "Requirement already satisfied: colorama in c:\\users\\ashay\\appdata\\local\\packages\\pythonsoftwarefoundation.python.3.11_qbz5n2kfra8p0\\localcache\\local-packages\\python311\\site-packages (from tqdm->google-generativeai) (0.4.6)\n",
      "Requirement already satisfied: grpcio<2.0dev,>=1.33.2 in c:\\users\\ashay\\appdata\\local\\packages\\pythonsoftwarefoundation.python.3.11_qbz5n2kfra8p0\\localcache\\local-packages\\python311\\site-packages (from google-api-core[grpc]!=2.0.*,!=2.1.*,!=2.10.*,!=2.2.*,!=2.3.*,!=2.4.*,!=2.5.*,!=2.6.*,!=2.7.*,!=2.8.*,!=2.9.*,<3.0.0dev,>=1.34.1->google-ai-generativelanguage==0.6.10->google-generativeai) (1.66.2)\n",
      "Requirement already satisfied: grpcio-status<2.0.dev0,>=1.33.2 in c:\\users\\ashay\\appdata\\local\\packages\\pythonsoftwarefoundation.python.3.11_qbz5n2kfra8p0\\localcache\\local-packages\\python311\\site-packages (from google-api-core[grpc]!=2.0.*,!=2.1.*,!=2.10.*,!=2.2.*,!=2.3.*,!=2.4.*,!=2.5.*,!=2.6.*,!=2.7.*,!=2.8.*,!=2.9.*,<3.0.0dev,>=1.34.1->google-ai-generativelanguage==0.6.10->google-generativeai) (1.66.2)\n",
      "Requirement already satisfied: pyparsing!=3.0.0,!=3.0.1,!=3.0.2,!=3.0.3,<4,>=2.4.2 in c:\\users\\ashay\\appdata\\local\\packages\\pythonsoftwarefoundation.python.3.11_qbz5n2kfra8p0\\localcache\\local-packages\\python311\\site-packages (from httplib2<1.dev0,>=0.19.0->google-api-python-client->google-generativeai) (3.1.2)\n",
      "Requirement already satisfied: pyasn1<0.7.0,>=0.4.6 in c:\\users\\ashay\\appdata\\local\\packages\\pythonsoftwarefoundation.python.3.11_qbz5n2kfra8p0\\localcache\\local-packages\\python311\\site-packages (from pyasn1-modules>=0.2.1->google-auth>=2.15.0->google-generativeai) (0.6.1)\n",
      "Requirement already satisfied: charset-normalizer<4,>=2 in c:\\users\\ashay\\appdata\\local\\packages\\pythonsoftwarefoundation.python.3.11_qbz5n2kfra8p0\\localcache\\local-packages\\python311\\site-packages (from requests<3.0.0.dev0,>=2.18.0->google-api-core->google-generativeai) (3.3.2)\n",
      "Requirement already satisfied: idna<4,>=2.5 in c:\\users\\ashay\\appdata\\local\\packages\\pythonsoftwarefoundation.python.3.11_qbz5n2kfra8p0\\localcache\\local-packages\\python311\\site-packages (from requests<3.0.0.dev0,>=2.18.0->google-api-core->google-generativeai) (3.10)\n",
      "Requirement already satisfied: urllib3<3,>=1.21.1 in c:\\users\\ashay\\appdata\\local\\packages\\pythonsoftwarefoundation.python.3.11_qbz5n2kfra8p0\\localcache\\local-packages\\python311\\site-packages (from requests<3.0.0.dev0,>=2.18.0->google-api-core->google-generativeai) (2.2.3)\n",
      "Requirement already satisfied: certifi>=2017.4.17 in c:\\users\\ashay\\appdata\\local\\packages\\pythonsoftwarefoundation.python.3.11_qbz5n2kfra8p0\\localcache\\local-packages\\python311\\site-packages (from requests<3.0.0.dev0,>=2.18.0->google-api-core->google-generativeai) (2024.8.30)\n",
      "Note: you may need to restart the kernel to use updated packages.\n"
     ]
    }
   ],
   "source": [
    "%pip install google-generativeai"
   ]
  },
  {
   "cell_type": "code",
   "execution_count": 45,
   "metadata": {},
   "outputs": [],
   "source": [
    "def read_reviews(file_path, delimiter=\"---END OF REVIEW---\"):\n",
    "    \"\"\"\n",
    "    Reads the reviews from a text file.\n",
    "    \n",
    "    Parameters:\n",
    "        file_path (str): Path of the text file.\n",
    "        delimiter (str): Delimiter separating reviews in the file.\n",
    "        \n",
    "    Returns:\n",
    "        list: List of non-empty reviews.\n",
    "    \"\"\"\n",
    "    with open(file_path, 'r') as file:\n",
    "        reviews = file.read().split(delimiter)\n",
    "    return [review.strip() for review in reviews if review.strip()]\n"
   ]
  },
  {
   "cell_type": "code",
   "execution_count": 46,
   "metadata": {},
   "outputs": [],
   "source": [
    "def extract_review_info(review):\n",
    "    \"\"\"\n",
    "    Extracts product name and review text from a review.\n",
    "\n",
    "    Parameters:\n",
    "        review (str): The full review text.\n",
    "        \n",
    "    Returns:\n",
    "        tuple: A tuple containing the product name and review text.\n",
    "    \"\"\"\n",
    "    product = \"\"\n",
    "    review_text = \"\"\n",
    "\n",
    "    for line in review.split(\"\\n\"):\n",
    "        if line.startswith(\"Product:\"):\n",
    "            product = line.split(\":\", 1)[1].strip()\n",
    "        elif line.startswith(\"Review:\"):\n",
    "            review_text = line.split(\":\", 1)[1].strip()\n",
    "    \n",
    "    return product, review_text\n"
   ]
  },
  {
   "cell_type": "code",
   "execution_count": 47,
   "metadata": {},
   "outputs": [],
   "source": [
    "\n",
    "def analyze_sentiment(review_text, chat_session):\n",
    "\n",
    "    \"\"\"\n",
    "    Analyze the sentiment of a review and generate a reply using the chat session.\n",
    "    \n",
    "    Parameters:\n",
    "        review_text (str): The review text to analyze.\n",
    "        chat_session: The chat session with the Gemini model.\n",
    "        \n",
    "    Return:\n",
    "        tuple: A tuple containing the sentiment (str) and the generated reply (str).\n",
    "    \"\"\"\n",
    "    sentiment_response = chat_session.send_message(f\"Categorize the sentiment in one word of this review in Positive/Negative/Neutral: {review_text}\")\n",
    "    sentiment = sentiment_response.text.lower()\n",
    "\n",
    "    reply_response = chat_session.send_message(f\"Add a 40 words reply to this review: {review_text} as per sentiment {sentiment}\")\n",
    "    reply = reply_response.text\n",
    "\n",
    "    return sentiment, reply\n",
    "\n"
   ]
  },
  {
   "cell_type": "code",
   "execution_count": 48,
   "metadata": {},
   "outputs": [],
   "source": [
    "def guess_product(review_text, chat_session):\n",
    "\n",
    "    \"\"\"\n",
    "    Guess the product category based on the review text.\n",
    "    \n",
    "    Parameters:\n",
    "        review_text (str): The review text to analyze.\n",
    "        chat_session: The chat session with the Gemini model.\n",
    "        \n",
    "    Returns:\n",
    "        str: The guessed product category.\n",
    "    \"\"\"\n",
    "\n",
    "    product_response = chat_session.send_message(f\"Guess the product name based on this review in one word: {review_text}\")\n",
    "    return product_response.text.strip()\n",
    "\n"
   ]
  },
  {
   "cell_type": "code",
   "execution_count": 49,
   "metadata": {},
   "outputs": [],
   "source": [
    "def save_to_csv(data, csv_file):\n",
    "\n",
    "    \"\"\"\n",
    "    Save the processed review data to a CSV file.\n",
    "    \n",
    "    Parameters:\n",
    "        data (list): List of processed data (rows) to save.\n",
    "        csv_file (str): The path to the CSV file.\n",
    "\n",
    "    Return:\n",
    "        None        \n",
    "    \"\"\"\n",
    "\n",
    "    with open(csv_file, 'w', newline='', encoding='utf-8') as file:\n",
    "        writer = csv.writer(file)\n",
    "        writer.writerow([\"Original Product\", \"Guessed Product\", \"Review\", \"Sentiment\", \"Reply\"])\n",
    "        writer.writerows(data)"
   ]
  },
  {
   "cell_type": "code",
   "execution_count": 50,
   "metadata": {},
   "outputs": [],
   "source": [
    "def process_reviews(file_path, csv_file, chat_session, delimiter=\"END\"):\n",
    "\n",
    "    \"\"\"\n",
    "    Process reviews by reading from a file, analyzing them, and saving results to a CSV.\n",
    "    \n",
    "    Parameters:\n",
    "        file_path (str): The path to the text file containing reviews.\n",
    "        csv_file (str): The path to save the processed reviews.\n",
    "        chat_session: The chat session with the Gemini model.\n",
    "        delimiter (str): The delimiter separating reviews in the file.\n",
    "\n",
    "    Return:\n",
    "        None        \n",
    "    \"\"\"\n",
    "    reviews = read_reviews(file_path, delimiter)\n",
    "    data = []\n",
    "\n",
    "    for review in reviews:\n",
    "        original_product, review_text = extract_review_info(review)\n",
    "        guessed_product = guess_product(review_text, chat_session)\n",
    "        sentiment, reply = analyze_sentiment(review_text, chat_session)\n",
    "\n",
    "        data.append([original_product, guessed_product, review_text, sentiment, reply])\n",
    "        time.sleep(2)  # Reduce sleep time for faster processing\n",
    "    \n",
    "    save_to_csv(data, csv_file)\n"
   ]
  },
  {
   "cell_type": "code",
   "execution_count": 53,
   "metadata": {},
   "outputs": [],
   "source": [
    "def main():\n",
    "    #try:\n",
    "        # Load environment variables and configure Gemini\n",
    "        load_dotenv()\n",
    "        api_key = os.getenv('GEMINI_API_KEY')\n",
    "        \n",
    "        if not api_key:\n",
    "            raise ValueError(\"API key not found in environment variables.\")\n",
    "\n",
    "        genai.configure(api_key=api_key)\n",
    "\n",
    "        # Create model configuration\n",
    "        generation_config = {\n",
    "            \"temperature\": 0.9,\n",
    "            \"top_p\": 0.95,\n",
    "            \"top_k\": 64,\n",
    "            \"max_output_tokens\": 8192,\n",
    "        }\n",
    "\n",
    "        # Initialize chat session with the Gemini model\n",
    "        model = genai.GenerativeModel(model_name=\"gemini-1.5-flash\", generation_config=generation_config)\n",
    "        chat_session = model.start_chat(history=[])\n",
    "\n",
    "        # Process reviews and save results to CSV\n",
    "        process_reviews('reviews.txt', 'tranf_reviews.csv', chat_session)\n",
    "\n",
    "    # except Exception as e:\n",
    "    #     print(f\"An error occurred: {e}\")\n",
    "\n",
    "\n",
    "if __name__ == '__main__':\n",
    "    main()\n"
   ]
  }
 ],
 "metadata": {
  "kernelspec": {
   "display_name": "Python 3",
   "language": "python",
   "name": "python3"
  },
  "language_info": {
   "codemirror_mode": {
    "name": "ipython",
    "version": 3
   },
   "file_extension": ".py",
   "mimetype": "text/x-python",
   "name": "python",
   "nbconvert_exporter": "python",
   "pygments_lexer": "ipython3",
   "version": "3.11.9"
  }
 },
 "nbformat": 4,
 "nbformat_minor": 2
}
